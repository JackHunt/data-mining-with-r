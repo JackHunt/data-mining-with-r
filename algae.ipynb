{
 "cells": [
  {
   "cell_type": "raw",
   "metadata": {
    "vscode": {
     "languageId": "raw"
    }
   },
   "source": [
    "---\n",
    "title: \"Predicting Algae Blooms\"\n",
    "title-block-banner: true\n",
    "number-sections: true\n",
    "code-fold: true\n",
    "format:\n",
    "  html:\n",
    "    toc: true\n",
    "    toc-location: left\n",
    "    smooth-scroll: true\n",
    "    df-print: kable\n",
    "theme:\n",
    "  dark: superhero\n",
    "  light: flatly\n",
    "---"
   ]
  },
  {
   "cell_type": "markdown",
   "metadata": {},
   "source": [
    "# Setup"
   ]
  },
  {
   "cell_type": "code",
   "execution_count": 107,
   "metadata": {
    "vscode": {
     "languageId": "r"
    }
   },
   "outputs": [],
   "source": [
    "library(DMwR)\n",
    "library(knitr)\n",
    "library(lattice)\n",
    "library(latticeExtra)"
   ]
  },
  {
   "cell_type": "markdown",
   "metadata": {},
   "source": [
    "# Data Description\n",
    "## Overview\n",
    "The data contain the following variables\n",
    "\n",
    "* Season in which the measurements were collected.\n",
    "* River size.\n",
    "* River speed.\n",
    "* Max pH value.\n",
    "* Min oxygen level.\n",
    "* Mean over three measurements\n",
    "  * Chloride.\n",
    "  * Nitrates.\n",
    "  * Ammonium.\n",
    "  * Orthophosphate.\n",
    "  * Phosphate.\n",
    "  * Chlorophyll.\n",
    "\n",
    "Associated with each are seven frequencies of harmful algae, per water sample."
   ]
  },
  {
   "cell_type": "markdown",
   "metadata": {},
   "source": [
    "## Summary"
   ]
  },
  {
   "cell_type": "markdown",
   "metadata": {},
   "source": [
    "### Head"
   ]
  },
  {
   "cell_type": "code",
   "execution_count": null,
   "metadata": {
    "vscode": {
     "languageId": "r"
    }
   },
   "outputs": [],
   "source": [
    "head(algae)"
   ]
  },
  {
   "cell_type": "markdown",
   "metadata": {},
   "source": [
    "### Summary Stats"
   ]
  },
  {
   "cell_type": "code",
   "execution_count": null,
   "metadata": {
    "vscode": {
     "languageId": "r"
    }
   },
   "outputs": [],
   "source": [
    "kable(summary(algae))"
   ]
  },
  {
   "cell_type": "markdown",
   "metadata": {},
   "source": [
    "## Variable Distributions"
   ]
  },
  {
   "cell_type": "code",
   "execution_count": 110,
   "metadata": {
    "vscode": {
     "languageId": "r"
    }
   },
   "outputs": [],
   "source": [
    "plot_variable <- function(var_name) {\n",
    "  var <- algae[[var_name]]\n",
    "  par(mfrow = c(1, 3), bg = \"white\")\n",
    "\n",
    "  plot(density(var, na.rm = TRUE), main = \"Density Plot\", xlab = var_name)\n",
    "  abline(v = mean(var, na.rm = TRUE), col = \"blue\", lty = 2)\n",
    "\n",
    "  qqnorm(var, main = \"Q-Q Plot\")\n",
    "  qqline(var, col = \"red\")\n",
    "\n",
    "  boxplot(var, horizontal = TRUE, main = \"Boxplot\", xlab = var_name)\n",
    "  abline(v = mean(var, na.rm = TRUE), col = \"blue\", lty = 2)\n",
    "\n",
    "  par(mfrow = c(1, 1))\n",
    "}"
   ]
  },
  {
   "cell_type": "markdown",
   "metadata": {},
   "source": [
    "### Max pH"
   ]
  },
  {
   "cell_type": "code",
   "execution_count": null,
   "metadata": {
    "vscode": {
     "languageId": "r"
    }
   },
   "outputs": [],
   "source": [
    "#| warning: false\n",
    "plot_variable(\"mxPH\")"
   ]
  },
  {
   "cell_type": "markdown",
   "metadata": {},
   "source": [
    "### Min Oxygen"
   ]
  },
  {
   "cell_type": "code",
   "execution_count": null,
   "metadata": {
    "vscode": {
     "languageId": "r"
    }
   },
   "outputs": [],
   "source": [
    "#| warning: false\n",
    "plot_variable(\"mnO2\")"
   ]
  },
  {
   "cell_type": "markdown",
   "metadata": {},
   "source": [
    "### Mean Chloride"
   ]
  },
  {
   "cell_type": "code",
   "execution_count": null,
   "metadata": {
    "vscode": {
     "languageId": "r"
    }
   },
   "outputs": [],
   "source": [
    "#| warning: false\n",
    "plot_variable(\"Cl\")"
   ]
  },
  {
   "cell_type": "markdown",
   "metadata": {},
   "source": [
    "### Mean Nitrates"
   ]
  },
  {
   "cell_type": "code",
   "execution_count": null,
   "metadata": {
    "vscode": {
     "languageId": "r"
    }
   },
   "outputs": [],
   "source": [
    "#| warning: false\n",
    "plot_variable(\"NO3\")"
   ]
  },
  {
   "cell_type": "markdown",
   "metadata": {},
   "source": [
    "### Mean Ammonium"
   ]
  },
  {
   "cell_type": "code",
   "execution_count": null,
   "metadata": {
    "vscode": {
     "languageId": "r"
    }
   },
   "outputs": [],
   "source": [
    "#| warning: false\n",
    "plot_variable(\"NH4\")"
   ]
  },
  {
   "cell_type": "markdown",
   "metadata": {},
   "source": [
    "### Mean Orthophosphate"
   ]
  },
  {
   "cell_type": "code",
   "execution_count": null,
   "metadata": {
    "vscode": {
     "languageId": "r"
    }
   },
   "outputs": [],
   "source": [
    "#| warning: false\n",
    "plot_variable(\"oPO4\")"
   ]
  },
  {
   "cell_type": "markdown",
   "metadata": {},
   "source": [
    "### Mean Phosphate"
   ]
  },
  {
   "cell_type": "code",
   "execution_count": null,
   "metadata": {
    "vscode": {
     "languageId": "r"
    }
   },
   "outputs": [],
   "source": [
    "#| warning: false\n",
    "plot_variable(\"PO4\")"
   ]
  },
  {
   "cell_type": "markdown",
   "metadata": {},
   "source": [
    "### Mean Chlorophyll"
   ]
  },
  {
   "cell_type": "code",
   "execution_count": null,
   "metadata": {
    "vscode": {
     "languageId": "r"
    }
   },
   "outputs": [],
   "source": [
    "#| warning: false\n",
    "plot_variable(\"Chla\")"
   ]
  },
  {
   "cell_type": "markdown",
   "metadata": {},
   "source": [
    "# Conditioned Plots"
   ]
  },
  {
   "cell_type": "code",
   "execution_count": 119,
   "metadata": {
    "vscode": {
     "languageId": "r"
    }
   },
   "outputs": [],
   "source": [
    "plot_conditioned <- function(x_var_name, y_var_name, use_lattice = TRUE) {\n",
    "  x_data <- algae[[x_var_name]]\n",
    "  y_data <- algae[[y_var_name]]\n",
    "  name <- paste(y_var_name, x_var_name, sep = \" vs \")\n",
    "\n",
    "  if (use_lattice) {\n",
    "    bwplot(x_data ~ y_data,\n",
    "      data = algae,\n",
    "      xlab = y_var_name,\n",
    "      ylab = x_var_name,\n",
    "      main = name)\n",
    "  } else {\n",
    "    boxplot(y_data ~ x_data,\n",
    "      horizontal = TRUE,\n",
    "      xlab = x_var_name,\n",
    "      ylab = y_var_name,\n",
    "      main = name,\n",
    "      outline = FALSE\n",
    "    )\n",
    "\n",
    "    rug(jitter(as.numeric(y_data)), side = 1)\n",
    "    rug(jitter(as.numeric(x_data)), side = 2)\n",
    "  }\n",
    "}"
   ]
  },
  {
   "cell_type": "markdown",
   "metadata": {},
   "source": [
    "## Algal a1"
   ]
  },
  {
   "cell_type": "code",
   "execution_count": null,
   "metadata": {
    "vscode": {
     "languageId": "r"
    }
   },
   "outputs": [],
   "source": [
    "plot_conditioned(\"size\", \"a1\")"
   ]
  },
  {
   "cell_type": "markdown",
   "metadata": {},
   "source": [
    "## Algal a3 vs minO2 over the Seasons"
   ]
  },
  {
   "cell_type": "code",
   "execution_count": null,
   "metadata": {
    "vscode": {
     "languageId": "r"
    }
   },
   "outputs": [],
   "source": [
    "minO2 <- equal.count(na.omit(algae$mnO2), number = 4, overlap = 1/5)\n",
    "\n",
    " # Note the | syntax is lattice specific\n",
    "stripplot(season ~ a3 | minO2, data = algae[!is.na(algae$mnO2),])"
   ]
  },
  {
   "cell_type": "markdown",
   "metadata": {
    "vscode": {
     "languageId": "r"
    }
   },
   "source": [
    "# Imputation"
   ]
  },
  {
   "cell_type": "markdown",
   "metadata": {},
   "source": [
    "## Count Rows With Missing Values"
   ]
  },
  {
   "cell_type": "code",
   "execution_count": null,
   "metadata": {
    "vscode": {
     "languageId": "r"
    }
   },
   "outputs": [],
   "source": [
    "rows_with_na <- algae[!complete.cases(algae),]\n",
    "rows_with_na"
   ]
  },
  {
   "cell_type": "code",
   "execution_count": null,
   "metadata": {
    "vscode": {
     "languageId": "r"
    }
   },
   "outputs": [],
   "source": [
    "nrow(rows_with_na)"
   ]
  },
  {
   "cell_type": "markdown",
   "metadata": {},
   "source": [
    "## Counting NA's Per Row"
   ]
  },
  {
   "cell_type": "code",
   "execution_count": 124,
   "metadata": {
    "vscode": {
     "languageId": "r"
    }
   },
   "outputs": [],
   "source": [
    "count_na_per_row <- function(data) {\n",
    "  apply(data, 1, function(d){\n",
    "    sum(is.na(d))\n",
    "  })\n",
    "}"
   ]
  },
  {
   "cell_type": "code",
   "execution_count": 125,
   "metadata": {
    "vscode": {
     "languageId": "r"
    }
   },
   "outputs": [],
   "source": [
    "na_row_counts <- count_na_per_row(algae)"
   ]
  },
  {
   "cell_type": "code",
   "execution_count": null,
   "metadata": {
    "vscode": {
     "languageId": "r"
    }
   },
   "outputs": [],
   "source": [
    "algae[which(na_row_counts > 2), ]"
   ]
  },
  {
   "cell_type": "markdown",
   "metadata": {},
   "source": [
    "## Central Tendency Imputation\n",
    "First, making a copy of the dataset and defining some imputation functions."
   ]
  },
  {
   "cell_type": "code",
   "execution_count": 127,
   "metadata": {
    "vscode": {
     "languageId": "r"
    }
   },
   "outputs": [],
   "source": [
    "algae_central <- data.frame(algae)\n",
    "\n",
    "impute_mean <- function(ds, var_name) {\n",
    "  ds[is.na(ds[[var_name]]), var_name] <- mean(ds[[var_name]], na.rm = TRUE)\n",
    "  ds\n",
    "}\n",
    "\n",
    "impute_median <- function(ds, var_name) {\n",
    "  ds[is.na(ds[[var_name]]), var_name] <- median(ds[[var_name]], na.rm = TRUE)\n",
    "  ds\n",
    "}"
   ]
  },
  {
   "cell_type": "markdown",
   "metadata": {
    "vscode": {
     "languageId": "r"
    }
   },
   "source": [
    "### Max pH\n",
    "As the maximum pH variable is normally distributed, the mean can be used for imputation."
   ]
  },
  {
   "cell_type": "code",
   "execution_count": 128,
   "metadata": {
    "vscode": {
     "languageId": "r"
    }
   },
   "outputs": [],
   "source": [
    "algae_central <- impute_mean(algae_central, \"mxPH\")"
   ]
  },
  {
   "cell_type": "markdown",
   "metadata": {},
   "source": [
    "### Mean Chlorophyll\n",
    "As the mean chlorophyll variable is very non-normal, skewed to the left and has outliers, the mean is a poorer choice of imputation method, so the median is used instead."
   ]
  },
  {
   "cell_type": "code",
   "execution_count": 129,
   "metadata": {
    "vscode": {
     "languageId": "r"
    }
   },
   "outputs": [],
   "source": [
    "algae_central <- impute_median(algae_central, \"Chla\")"
   ]
  },
  {
   "cell_type": "code",
   "execution_count": null,
   "metadata": {
    "vscode": {
     "languageId": "r"
    }
   },
   "outputs": [],
   "source": []
  }
 ],
 "metadata": {
  "kernelspec": {
   "display_name": "R",
   "language": "R",
   "name": "ir"
  },
  "language_info": {
   "codemirror_mode": "r",
   "file_extension": ".r",
   "mimetype": "text/x-r-source",
   "name": "R",
   "pygments_lexer": "r",
   "version": "4.4.1"
  }
 },
 "nbformat": 4,
 "nbformat_minor": 2
}
